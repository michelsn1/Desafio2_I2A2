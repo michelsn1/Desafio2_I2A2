{
 "cells": [
  {
   "cell_type": "markdown",
   "metadata": {},
   "source": [
    "# Desafio 2\n",
    "\n",
    "### Michel Nassif\n",
    "\n",
    "Tomando o Iris dataset como base, será possível criar um perceptron que consiga classificar 2 classes de flores - \"iris setosa\" e \"iris outras\"?\n",
    "Quais valores serão mais adequados para esta análise? Comprimento da pétala, comprimento da sépala, largura da pétala, largura da sépala?\n",
    "Para enxergarem melhor, minha sugestão é utilizar o Orange (que é instalado junto com o pacote completo do Anaconda), ou utilizar outra ferramenta qualquer (como o Weka) e gerar um scatter plot das combinações."
   ]
  },
  {
   "cell_type": "markdown",
   "metadata": {},
   "source": [
    "#### Importando as bibliotecas "
   ]
  },
  {
   "cell_type": "code",
   "execution_count": 1,
   "metadata": {},
   "outputs": [],
   "source": [
    "import pandas as pd\n",
    "import numpy as np"
   ]
  },
  {
   "cell_type": "markdown",
   "metadata": {},
   "source": [
    "#### Criando e Treinando o Perceptron"
   ]
  },
  {
   "cell_type": "code",
   "execution_count": 2,
   "metadata": {},
   "outputs": [],
   "source": [
    "###Função que ajusta os parâmetros dos pesos\n",
    "def ajuste_parametro(x,pesos,erro,ritmo_aprendizado):\n",
    "    for i in range (0,len(pesos)):\n",
    "        pesos[i]=pesos[i]+ritmo_aprendizado*x[i]*erro\n",
    "    return pesos\n",
    "\n",
    "###Função que simula o treinamento de uma época\n",
    "def treino_epoca(X,Y,pesos,ritmo_aprendizado=0.2):\n",
    "    for linha in X.index:\n",
    "        coluna=0\n",
    "        somatoria=0\n",
    "        for entrada in X.columns:\n",
    "            somatoria+=X[entrada].values[linha]*pesos[coluna]\n",
    "        if somatoria>=0:\n",
    "            y_chapeu=1\n",
    "        else:\n",
    "            y_chapeu=0\n",
    "        erro=Y[linha]-y_chapeu\n",
    "        if erro!=0:\n",
    "            pesos=ajuste_parametro(X.values[linha],pesos,erro,ritmo_aprendizado)\n",
    "        coluna+=1\n",
    "    return pesos\n",
    "\n",
    "###Função que calcula a quantidade de previsões erradas no dataframe     \n",
    "def erro_total(X,Y,pesos):\n",
    "    erro_total=0\n",
    "    for linha in X.index:\n",
    "        coluna=0\n",
    "        somatoria=0\n",
    "        for entrada in X.columns:\n",
    "            somatoria+=X[entrada].values[linha]*pesos[coluna]\n",
    "            coluna+=1\n",
    "        if somatoria>=0:\n",
    "            y_chapeu=1\n",
    "        else:\n",
    "            y_chapeu=0\n",
    "        erro_total+=abs(Y[linha]-y_chapeu)\n",
    "    return erro_total\n",
    "\n",
    "### Função que realiza o treinamento, não limitando o número de rodadas de treinamento, caso o valor do número de épocas não seja dado.\n",
    "def treino(X,Y,pesos,epocas=-1):\n",
    "    if epocas>=0:\n",
    "        for i in range (0,epocas):\n",
    "            erro=erro_total(X,Y,pesos)\n",
    "            #print(erro)\n",
    "            if erro==0:\n",
    "                print(\"Treino bem sucedido, erro 0. Na época %s.\"%i)\n",
    "                return pesos\n",
    "            else:\n",
    "                pesos=treino_epoca(X,Y,pesos)\n",
    "    else:\n",
    "        erro=10\n",
    "        while erro>0:\n",
    "            erro=erro_total(X,Y,pesos)\n",
    "            if erro==0:\n",
    "                print(\"Treino bem sucedido, erro 0. Na época %s.\"%i)\n",
    "                return pesos\n",
    "            else:\n",
    "                pesos=treino_epoca(X,Y,pesos)\n",
    "    print(\"Treino concluido, até as %s épocas serem concluidas.\"%epocas)\n",
    "    return pesos\n",
    "\n",
    "### Função que dada uma entrada, calcula todas as saída e compara com o resultado original \n",
    "def saida (X,iris,pesos):\n",
    "    coluna=0\n",
    "    somatoria=np.zeros(X.index.size)\n",
    "    iris['saida_calculada']=0\n",
    "    for entrada in X.columns:\n",
    "        somatoria+=X[entrada]*pesos[coluna]\n",
    "        coluna+=1\n",
    "    iris['saida']=np.where(iris['class']=='Iris-setosa','Iris-setosa','Iris - Outras')\n",
    "    iris['saida_calculada']=np.where(somatoria>0,'Iris-setosa','Iris - Outras')\n",
    "    return iris\n"
   ]
  },
  {
   "cell_type": "markdown",
   "metadata": {},
   "source": [
    "#### Preparando o Treino"
   ]
  },
  {
   "cell_type": "code",
   "execution_count": 14,
   "metadata": {},
   "outputs": [
    {
     "name": "stdout",
     "output_type": "stream",
     "text": [
      "Os pesos iniciais são:\n",
      "[-0.96392928  0.8153765   0.56794222  0.73735854]\n",
      "De modo que para este conjunto de pesos temos um erro de: 118.\n"
     ]
    }
   ],
   "source": [
    "###Importando os dados\n",
    "iris=pd.read_csv('https://archive.ics.uci.edu/ml/machine-learning-databases/iris/iris.data',names=['sepal length','sepal width','petal length','petal width','class'])\n",
    "X=iris[['sepal length','sepal width','petal length','petal width']]\n",
    "#X['bias']=1\n",
    "Y=np.where(iris['class']=='Iris-setosa',1,0)\n",
    "\n",
    "#Definindo os pesos e descobrindo o erro inicial\n",
    "pesos=np.random.uniform(low=-1,high=1,size=X.columns.size)\n",
    "print('Os pesos iniciais são:')\n",
    "print(pesos)\n",
    "erro = erro_total(X,Y,pesos)\n",
    "print('De modo que para este conjunto de pesos temos um erro de: %s.'%erro)\n"
   ]
  },
  {
   "cell_type": "markdown",
   "metadata": {},
   "source": [
    "#### Treinando os dados - 2000 épocas"
   ]
  },
  {
   "cell_type": "code",
   "execution_count": 15,
   "metadata": {},
   "outputs": [
    {
     "name": "stdout",
     "output_type": "stream",
     "text": [
      "Treino bem sucedido, erro 0. Na época 4.\n",
      "Os valores dos pesos treinados são:\n",
      "[-0.52392928  2.2553765  -1.51205778 -0.14264146]\n",
      "De modo que para este conjunto de pesos temos um erro de: 0.\n"
     ]
    }
   ],
   "source": [
    "pesos = treino(X,Y,pesos,2000)\n",
    "print('Os valores dos pesos treinados são:')\n",
    "print(pesos)\n",
    "erro = erro_total(X,Y,pesos)\n",
    "print('De modo que para este conjunto de pesos temos um erro de: %s.'%erro)"
   ]
  },
  {
   "cell_type": "markdown",
   "metadata": {},
   "source": [
    "#### Detectando as possíveis previsões erradas"
   ]
  },
  {
   "cell_type": "code",
   "execution_count": 16,
   "metadata": {},
   "outputs": [
    {
     "data": {
      "text/html": [
       "<div>\n",
       "<style scoped>\n",
       "    .dataframe tbody tr th:only-of-type {\n",
       "        vertical-align: middle;\n",
       "    }\n",
       "\n",
       "    .dataframe tbody tr th {\n",
       "        vertical-align: top;\n",
       "    }\n",
       "\n",
       "    .dataframe thead th {\n",
       "        text-align: right;\n",
       "    }\n",
       "</style>\n",
       "<table border=\"1\" class=\"dataframe\">\n",
       "  <thead>\n",
       "    <tr style=\"text-align: right;\">\n",
       "      <th></th>\n",
       "      <th>sepal length</th>\n",
       "      <th>sepal width</th>\n",
       "      <th>petal length</th>\n",
       "      <th>petal width</th>\n",
       "      <th>class</th>\n",
       "      <th>saida_calculada</th>\n",
       "      <th>saida</th>\n",
       "    </tr>\n",
       "  </thead>\n",
       "  <tbody>\n",
       "  </tbody>\n",
       "</table>\n",
       "</div>"
      ],
      "text/plain": [
       "Empty DataFrame\n",
       "Columns: [sepal length, sepal width, petal length, petal width, class, saida_calculada, saida]\n",
       "Index: []"
      ]
     },
     "execution_count": 16,
     "metadata": {},
     "output_type": "execute_result"
    }
   ],
   "source": [
    "resposta = saida(X,iris,pesos)\n",
    "resposta_errada=resposta[resposta['saida_calculada']!=resposta['saida']]\n",
    "resposta_errada"
   ]
  }
 ],
 "metadata": {
  "kernelspec": {
   "display_name": "Python 3",
   "language": "python",
   "name": "python3"
  },
  "language_info": {
   "codemirror_mode": {
    "name": "ipython",
    "version": 3
   },
   "file_extension": ".py",
   "mimetype": "text/x-python",
   "name": "python",
   "nbconvert_exporter": "python",
   "pygments_lexer": "ipython3",
   "version": "3.7.2"
  }
 },
 "nbformat": 4,
 "nbformat_minor": 2
}
